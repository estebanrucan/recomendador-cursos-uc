{
 "cells": [
  {
   "cell_type": "code",
   "execution_count": 27,
   "metadata": {},
   "outputs": [],
   "source": [
    "import pandas as pd\n",
    "import json\n",
    "import codecs"
   ]
  },
  {
   "cell_type": "code",
   "execution_count": 4,
   "metadata": {},
   "outputs": [],
   "source": [
    "data = pd.read_json(\"../scraper_siglas-uc/outputs/programas_clean.json\", orient = \"table\")"
   ]
  },
  {
   "cell_type": "code",
   "execution_count": 12,
   "metadata": {},
   "outputs": [
    {
     "data": {
      "text/html": [
       "<div>\n",
       "<style scoped>\n",
       "    .dataframe tbody tr th:only-of-type {\n",
       "        vertical-align: middle;\n",
       "    }\n",
       "\n",
       "    .dataframe tbody tr th {\n",
       "        vertical-align: top;\n",
       "    }\n",
       "\n",
       "    .dataframe thead th {\n",
       "        text-align: right;\n",
       "    }\n",
       "</style>\n",
       "<table border=\"1\" class=\"dataframe\">\n",
       "  <thead>\n",
       "    <tr style=\"text-align: right;\">\n",
       "      <th></th>\n",
       "      <th>escuela</th>\n",
       "      <th>campus</th>\n",
       "      <th>formato</th>\n",
       "      <th>sigla</th>\n",
       "      <th>nombre</th>\n",
       "      <th>creditos</th>\n",
       "      <th>docente</th>\n",
       "    </tr>\n",
       "  </thead>\n",
       "  <tbody>\n",
       "    <tr>\n",
       "      <th>0</th>\n",
       "      <td>Actividades Universitarias</td>\n",
       "      <td>San Joaquín</td>\n",
       "      <td>Remoto</td>\n",
       "      <td>PRC100R</td>\n",
       "      <td>Retiro: Dimensión Bíblica</td>\n",
       "      <td>0</td>\n",
       "      <td>Dirección Docente</td>\n",
       "    </tr>\n",
       "    <tr>\n",
       "      <th>1</th>\n",
       "      <td>Actividades Universitarias</td>\n",
       "      <td>San Joaquín</td>\n",
       "      <td>Remoto</td>\n",
       "      <td>PRC100S</td>\n",
       "      <td>Servicio Pastoral. Mundo Infantil y Juvenil</td>\n",
       "      <td>0</td>\n",
       "      <td>Dirección Docente</td>\n",
       "    </tr>\n",
       "    <tr>\n",
       "      <th>2</th>\n",
       "      <td>Actividades Universitarias</td>\n",
       "      <td>San Joaquín</td>\n",
       "      <td>Remoto</td>\n",
       "      <td>PRC200R</td>\n",
       "      <td>Retiro: Cristo en el Misterio de Hoy</td>\n",
       "      <td>0</td>\n",
       "      <td>Dirección Docente</td>\n",
       "    </tr>\n",
       "    <tr>\n",
       "      <th>3</th>\n",
       "      <td>Actividades Universitarias</td>\n",
       "      <td>San Joaquín</td>\n",
       "      <td>Remoto</td>\n",
       "      <td>PRC200S</td>\n",
       "      <td>Servicio Pastoral. Mundo Tercera Edad</td>\n",
       "      <td>0</td>\n",
       "      <td>Dirección Docente</td>\n",
       "    </tr>\n",
       "    <tr>\n",
       "      <th>4</th>\n",
       "      <td>Actividades Universitarias</td>\n",
       "      <td>San Joaquín</td>\n",
       "      <td>Remoto</td>\n",
       "      <td>PRC300R</td>\n",
       "      <td>Retiro: Dimensión Carismática</td>\n",
       "      <td>0</td>\n",
       "      <td>Dirección Docente</td>\n",
       "    </tr>\n",
       "  </tbody>\n",
       "</table>\n",
       "</div>"
      ],
      "text/plain": [
       "                      escuela       campus formato    sigla  \\\n",
       "0  Actividades Universitarias  San Joaquín  Remoto  PRC100R   \n",
       "1  Actividades Universitarias  San Joaquín  Remoto  PRC100S   \n",
       "2  Actividades Universitarias  San Joaquín  Remoto  PRC200R   \n",
       "3  Actividades Universitarias  San Joaquín  Remoto  PRC200S   \n",
       "4  Actividades Universitarias  San Joaquín  Remoto  PRC300R   \n",
       "\n",
       "                                        nombre  creditos            docente  \n",
       "0                    Retiro: Dimensión Bíblica         0  Dirección Docente  \n",
       "1  Servicio Pastoral. Mundo Infantil y Juvenil         0  Dirección Docente  \n",
       "2         Retiro: Cristo en el Misterio de Hoy         0  Dirección Docente  \n",
       "3        Servicio Pastoral. Mundo Tercera Edad         0  Dirección Docente  \n",
       "4                Retiro: Dimensión Carismática         0  Dirección Docente  "
      ]
     },
     "execution_count": 12,
     "metadata": {},
     "output_type": "execute_result"
    }
   ],
   "source": [
    "prog = pd.read_json(\"../scraper_siglas-uc/outputs/detalles.json\")\n",
    "prog.head()"
   ]
  },
  {
   "cell_type": "code",
   "execution_count": 18,
   "metadata": {},
   "outputs": [],
   "source": [
    "escuelas = [e for e in prog.escuela.unique()]\n",
    "campus   = [e for e in prog.campus.unique()]\n",
    "formato  = [e for e in prog.formato.unique()]"
   ]
  },
  {
   "cell_type": "code",
   "execution_count": 38,
   "metadata": {},
   "outputs": [
    {
     "data": {
      "text/plain": [
       "10    3481\n",
       "5      927\n",
       "0      401\n",
       "20     323\n",
       "15     291\n",
       "50     178\n",
       "40     127\n",
       "30     107\n",
       "25     101\n",
       "35      74\n",
       "12      45\n",
       "70      31\n",
       "45      23\n",
       "8       17\n",
       "2       16\n",
       "16      14\n",
       "17       5\n",
       "46       4\n",
       "18       2\n",
       "14       2\n",
       "7        2\n",
       "6        1\n",
       "1        1\n",
       "Name: creditos, dtype: int64"
      ]
     },
     "execution_count": 38,
     "metadata": {},
     "output_type": "execute_result"
    }
   ],
   "source": [
    "prog.creditos.value_counts()"
   ]
  },
  {
   "cell_type": "code",
   "execution_count": 35,
   "metadata": {},
   "outputs": [],
   "source": [
    "diccionario = {\n",
    "    \"escuelas\": escuelas,\n",
    "    \"campus\"  : campus,\n",
    "    \"formato\" : formato\n",
    "}\n",
    "\n",
    "with codecs.open(\"../scraper_siglas-uc/outputs/menus.json\", \"w\", \"utf-8\") as file:\n",
    "    json.dump(diccionario, file)"
   ]
  }
 ],
 "metadata": {
  "interpreter": {
   "hash": "a782e91f3854434a1924d5cbeed94dcce0f1ab6e0958f272b7513c90004e79a3"
  },
  "kernelspec": {
   "display_name": "Python 3.9.7 64-bit ('myenv': conda)",
   "language": "python",
   "name": "python3"
  },
  "language_info": {
   "codemirror_mode": {
    "name": "ipython",
    "version": 3
   },
   "file_extension": ".py",
   "mimetype": "text/x-python",
   "name": "python",
   "nbconvert_exporter": "python",
   "pygments_lexer": "ipython3",
   "version": "3.9.7"
  },
  "orig_nbformat": 4
 },
 "nbformat": 4,
 "nbformat_minor": 2
}
