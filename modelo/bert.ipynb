{
 "cells": [
  {
   "cell_type": "code",
   "execution_count": 10,
   "metadata": {},
   "outputs": [],
   "source": [
    "from sentence_transformers import SentenceTransformer\n",
    "import pandas as pd\n",
    "from sklearn.metrics.pairwise import cosine_similarity"
   ]
  },
  {
   "cell_type": "code",
   "execution_count": null,
   "metadata": {},
   "outputs": [],
   "source": [
    "def most_similar(doc_id):\n",
    "    print (f'Document: {documents_df.iloc[doc_id][\"documents\"]}')\n",
    "    print ('\\n')\n",
    "    print (f'Similar Documents using {matrix}:')\n",
    "    if matrix=='Cosine Similarity':\n",
    "        similar_ix=np.argsort(similarity_matrix[doc_id])[::-1]\n",
    "    elif matrix=='Euclidean Distance':\n",
    "        similar_ix=np.argsort(similarity_matrix[doc_id])\n",
    "    for ix in similar_ix:\n",
    "        if ix==doc_id:\n",
    "            continue\n",
    "        print('\\n')\n",
    "        print (f'Document: {documents_df.iloc[ix][\"documents\"]}')\n",
    "        print (f'{matrix} : {similarity_matrix[doc_id][ix]}')"
   ]
  },
  {
   "cell_type": "code",
   "execution_count": 3,
   "metadata": {},
   "outputs": [],
   "source": [
    "programas = pd.read_json(\"../scraper_siglas-uc/outputs/programas_clean.json\", orient=\"table\")"
   ]
  },
  {
   "cell_type": "code",
   "execution_count": 2,
   "metadata": {},
   "outputs": [
    {
     "name": "stderr",
     "output_type": "stream",
     "text": [
      "Downloading: 100%|██████████| 391/391 [00:00<00:00, 403kB/s]\n",
      "Downloading: 100%|██████████| 3.95k/3.95k [00:00<00:00, 3.85MB/s]\n",
      "Downloading: 100%|██████████| 2.00/2.00 [00:00<00:00, 2.01kB/s]\n",
      "Downloading: 100%|██████████| 625/625 [00:00<00:00, 627kB/s]\n",
      "Downloading: 100%|██████████| 122/122 [00:00<00:00, 123kB/s]\n",
      "Downloading: 100%|██████████| 229/229 [00:00<00:00, 230kB/s]\n",
      "Downloading: 100%|██████████| 438M/438M [00:20<00:00, 21.3MB/s] \n",
      "Downloading: 100%|██████████| 53.0/53.0 [00:00<00:00, 53.1kB/s]\n",
      "Downloading: 100%|██████████| 112/112 [00:00<00:00, 56.2kB/s]\n",
      "Downloading: 100%|██████████| 466k/466k [00:02<00:00, 177kB/s] \n",
      "Downloading: 100%|██████████| 399/399 [00:00<00:00, 400kB/s]\n",
      "Downloading: 100%|██████████| 232k/232k [00:01<00:00, 174kB/s]  \n",
      "Downloading: 100%|██████████| 190/190 [00:00<00:00, 190kB/s]\n"
     ]
    }
   ],
   "source": [
    "sbert_model = SentenceTransformer('bert-base-nli-mean-tokens')"
   ]
  },
  {
   "cell_type": "code",
   "execution_count": 6,
   "metadata": {},
   "outputs": [],
   "source": [
    "documment_embs = sbert_model.encode(programas[\"programa\"])"
   ]
  },
  {
   "cell_type": "code",
   "execution_count": 17,
   "metadata": {},
   "outputs": [
    {
     "data": {
      "text/plain": [
       "'SentenceTransformer'"
      ]
     },
     "execution_count": 17,
     "metadata": {},
     "output_type": "execute_result"
    }
   ],
   "source": [
    "sbert_model"
   ]
  },
  {
   "cell_type": "code",
   "execution_count": 8,
   "metadata": {},
   "outputs": [
    {
     "data": {
      "text/plain": [
       "(1024, 768)"
      ]
     },
     "execution_count": 8,
     "metadata": {},
     "output_type": "execute_result"
    }
   ],
   "source": [
    "documment_embs.shape"
   ]
  },
  {
   "cell_type": "code",
   "execution_count": 21,
   "metadata": {},
   "outputs": [],
   "source": [
    "sim_mtx = cosine_similarity(documment_embs)\n",
    "sim_mtx = pd.DataFrame(sim_mtx, columns=programas[\"sigla\"].values).set_index(programas[\"sigla\"])"
   ]
  },
  {
   "cell_type": "code",
   "execution_count": 30,
   "metadata": {},
   "outputs": [
    {
     "data": {
      "text/plain": [
       "sigla\n",
       "MAT1610    1.000000\n",
       "ICM2028    0.929249\n",
       "AQC0300    0.928825\n",
       "ART0403    0.925336\n",
       "ARQ3626    0.923576\n",
       "ICP0201    0.923245\n",
       "FIZ0322    0.920672\n",
       "EDU370F    0.919696\n",
       "AQT0300    0.917334\n",
       "ICE2313    0.915324\n",
       "Name: MAT1610, dtype: float32"
      ]
     },
     "execution_count": 30,
     "metadata": {},
     "output_type": "execute_result"
    }
   ],
   "source": [
    "sim_mtx[\"MAT1610\"].sort_values(ascending=False).head(10)"
   ]
  }
 ],
 "metadata": {
  "interpreter": {
   "hash": "9f6037464e5511fc800e70c20fbfbd1696fefc3056eb958e0524ad66373a90e5"
  },
  "kernelspec": {
   "display_name": "Python 3.8.12 64-bit ('app-mgyjwmKR': pipenv)",
   "language": "python",
   "name": "python3"
  },
  "language_info": {
   "codemirror_mode": {
    "name": "ipython",
    "version": 3
   },
   "file_extension": ".py",
   "mimetype": "text/x-python",
   "name": "python",
   "nbconvert_exporter": "python",
   "pygments_lexer": "ipython3",
   "version": "3.8.12"
  },
  "orig_nbformat": 4
 },
 "nbformat": 4,
 "nbformat_minor": 2
}
