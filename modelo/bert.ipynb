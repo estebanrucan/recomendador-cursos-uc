{
 "cells": [
  {
   "cell_type": "code",
   "execution_count": 1,
   "metadata": {},
   "outputs": [],
   "source": [
    "import pandas as pd"
   ]
  },
  {
   "cell_type": "code",
   "execution_count": 7,
   "metadata": {},
   "outputs": [],
   "source": [
    "datos = pd.read_json(\"../scrapercatalogouc/outputs/programas.json\")"
   ]
  },
  {
   "cell_type": "code",
   "execution_count": 8,
   "metadata": {},
   "outputs": [
    {
     "data": {
      "text/plain": [
       "'CURSO:DANZA ESTILO LIBRE I\\nTRADUCCIÓN:DANCE FREE STYLE I\\nSIGLA:DPT6840\\nCRÉDITOS:05\\nMÓDULOS:03\\nCARÁCTER:FORMACIÓN GENERAL\\nTIPO:CÁTEDRA\\nCALIFICACIÓN:ESTÁNDAR\\nNIVEL FORMATIVO:PREGRADO\\nPALABRAS CLAVE:DEPORTES, SICOMOTRIZ, INTEGRAL\\nÁREA FG:SALUD Y BIENESTAR\\nHABILIDADES FG:TRABAJO EN EQUIPO Y DISCERNIMIENTO ÉTICO\\n\\n\\nI.INTEGRIDAD ACADÉMICA Y CÓDIGO DE HONOR\\n\\n\\x93En este curso nos comprometemos con la Integridad Académica, reconociéndola como pilar fundamental del proceso formativo de nuestros estudiantes, para colaborar en la construcción de una cultura de respeto e integridad en la UC. Por tanto, las estrategias metodológicas y de evaluación, debiesen favorecer la promoción de los valores de honestidad, confianza, justicia, respeto y responsabilidad, así como el desarrollo de habilidades transversales para el aprendizaje.\\nAdemás, para fortalecer esta cultura de respeto e integridad, este curso se adscribe y compromete con el Código de Honor UC:\\n\\nComo miembro de la comunidad de la Pontificia Universidad Católica de Chile, me comprometo a respetar los principios y normativas que la rigen. Asimismo, me comprometo a actuar con rectitud y honestidad en las relaciones con los demás integrantes de la comunidad y en la realización de todo trabajo, particularmente en aquellas actividades vinculadas a la docencia, al aprendizaje y la creación, difusión y transferencia del conocimiento. Además, me comprometo a velar por la dignidad e integridad de las personas, evitando incurrir en y, rechazando, toda conducta abusiva de carácter físico, verbal, psicológico y de violencia sexual. Del mismo modo, asumo el compromiso de cuidar los bienes de la Universidad\\x94.\\n\\n\\nII. DEL CURSO\\n\\nDanza Estilo Libre I se categoriza como una actividad individual sicomotriz y sociomotriz, que entrega los fundamentos técnicos y coordinativos de la actividad, permitiendo al estudiante aplicar los contenidos y ser evaluado en una puesta en escena coreográfica. Mediante su práctica se optimiza la condición física para un buen desempeño durante las coreografías, aspirando a una mejor calidad de vida. Los valores y competencias propios de ésta dan la oportunidad al estudiante para reflexionar en torno a las acciones desarrolladas, promoviendo la superación en su formación personal y profesional. \\n\\n\\nIII.RESULTADOS DE APRENDIZAJE\\n\\n1.Integrar de forma práctica los fundamentos y aspectos reglamentarios de la Danza Estilo Libre, en forma individual y colectiva desde acciones simuladas, o realidad de desempeño.\\n\\n2.Experimentar progresivamente las capacidades condicionantes requeridas para la práctica de la Danza Estilo Libre promoviendo la Salud y Bienestar.\\n\\n3.Evaluar las habilidades socioafectivas de trabajo en equipo y discernimiento ético, generados en la práctica de la Danza Estilo Libre, reflexionando respecto al impacto de estas acciones para su vida personal y profesional.\\n\\n\\nIV.CONTENIDOS\\n\\n1.Unidad 1: La importancia de la motricidad y su impacto en la salud integral por medio de la práctica de la Danza Estilo Libre.\\n1.1.Análisis del contexto histórico de la Danza Estilo Libre y su evolución.\\n1.1.1.Historia de la actividad.\\n1.1.2.Técnicas.\\n1.1.3.Reglamentos.\\n1.2.Fundamentos técnicos aplicados en una simulación y/o realidad  de desempeño, promoviendo la salud y bienestar.\\n1.3.Toma de decisiones y discernimiento ético en la práctica de la Danza Estilo Libre.\\n                         \\n2.Unidad 2: Puesta en práctica de los fundamentos de la Danza Estilo Libre para un correcto desempeño en su práctica, aportando a una mejor calidad de vida. \\n2.1.Análisis de la relación entre las capacidades condicionantes y su ponderación para la promoción de hábitos de vida saludable.\\n2.2.Experimentación de las capacidades condicionantes generales y específicas de la Danza Estilo Libre como medio de promoción para una mejor calidad de vida.\\n2.3.Reflexión sobre los beneficios de la práctica deportiva, para el buen uso del ocio y el tiempo libre.\\n\\n3.Unidad 3: Evaluando la práctica de la Danza Estilo Libre como actividad y estilo de vida, para una contribución al desarrollo personal y profesional.\\n3.1.Reflexión sobre los aspectos formativos transversales para la promoción de la vida sana, convivencia social, desarrollo personal y profesional a través de la Danza Estilo Libre destacando el discernimiento ético.\\n3.2.El rol de la Danza Estilo Libre como medio de formación integral. \\n3.3.Valoración de los hábitos saludables para el autocuidado en la prevención y promoción de una vida activa.\\n\\n\\nV.ESTRATEGIAS METODOLOGICAS\\n\\n-Cátedras.\\n\\n-Modelamiento.\\n\\n-Aprendizaje basado en equipos.\\n\\n-Situaciones de desempeño.\\n\\n-Aprendizaje basado en problemas.\\n\\n-Aprendizaje participativo (colaborativo y cooperativo)\\n\\n-Toma de decisiones.\\n\\n-Aprendizaje basado en simulaciones.\\n\\n\\nVI.ESTRATEGIAS EVALUATIVAS\\n\\nActividades diagnósticas\\n\\n-Pruebas escritas teóricas: 20% \\n\\n-Situaciones de desempeño/pruebas prácticas: 30% \\n\\n-Test físicos: 25% \\n\\n-Rúbrica aspectos formativos transversales: 25%\\n\\n\\nVII.BIBLIOGRAFÍA\\n\\nMínima\\n\\nAbarca, N. (2004). Inteligencia emocional y Liderazgo. Santiago. Chile. El Mercurio/Aguilar.\\n\\nCervera, P. (2004). Alimentación y dietoterapia: nutrición aplicada en la salud y enfermedad. Madrid. España. McGraw-Hill Interamericana.\\n\\nChan, J. (2014). Generación Hip \\x96hop: de la guerra de pandillas y el grafiti al gansta rap. Buenos Aires. Argentina. Caja negra. \\n\\nFerguson, A. et al (2017). Liderazgo. Buenos Aires: Editorial Roca.\\n\\nFigueroa,I. ( 2006). Sueños enlatados:el grafiti Hip hop en Santiago.  Santiago.  Chile.  Cuarto propio.\\n\\nGarcía, M. et al (2009). Sociología del deporte. Madrid: Editorial Alianza.\\n\\nGuilbert J. (2003). Cultura y políticas de la música dance:disco, house, techno,drum\\x92n\\x92bass y garage. \\n\\n\\nComplementaria\\n\\nTamarit, X. (2012). ¿Qué es la \\x93Periodización Táctica\\x94? Vivenciar el \\x93juego\\x94 para condicionar el Juego. (4ta Edición). Vigo: MCSports.\\n\\n\\nRecursos WEB\\n\\nCódigo de Honor UC http://www.uc.cl/codigodehonor/el-codigo\\n\\nFederación Internacional de Gimnasia\\t\\t\\n\\nhttp://www.fig-gymnastics.com/site/discipline.php?disc=9\\n\\nImpronta UC\\thttp://www.direcciónacademica.uc.cl/formacion-general/habilidades-comunicativas-en-ingles/2-contenido/40-impronta-uc\\n\\nLecturas, Educación Física y Deportes. http://www.efdeportes.com\\n\\n\\nPONTIFICIA UNIVERSIDAD CATÓLICA DE CHILE\\nDAE DEPORTES / FORMACIÓN GENERAL/ DICIEMBRE 2020'"
      ]
     },
     "execution_count": 8,
     "metadata": {},
     "output_type": "execute_result"
    }
   ],
   "source": [
    "datos.query(\"sigla == 'DPT6840'\").iloc[0, 2]"
   ]
  }
 ],
 "metadata": {
  "interpreter": {
   "hash": "9f6037464e5511fc800e70c20fbfbd1696fefc3056eb958e0524ad66373a90e5"
  },
  "kernelspec": {
   "display_name": "Python 3.8.12 64-bit ('app-mgyjwmKR': pipenv)",
   "language": "python",
   "name": "python3"
  },
  "language_info": {
   "codemirror_mode": {
    "name": "ipython",
    "version": 3
   },
   "file_extension": ".py",
   "mimetype": "text/x-python",
   "name": "python",
   "nbconvert_exporter": "python",
   "pygments_lexer": "ipython3",
   "version": "3.8.12"
  },
  "orig_nbformat": 4
 },
 "nbformat": 4,
 "nbformat_minor": 2
}
