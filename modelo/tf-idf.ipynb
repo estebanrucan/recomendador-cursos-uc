{
 "cells": [
  {
   "cell_type": "code",
   "execution_count": 12,
   "metadata": {},
   "outputs": [],
   "source": [
    "import numpy as np\n",
    "import pandas as pd\n",
    "\n",
    "from nltk import word_tokenize\n",
    "import nltk\n",
    "\n",
    "import gensim\n",
    "import pickle"
   ]
  },
  {
   "cell_type": "code",
   "execution_count": 13,
   "metadata": {},
   "outputs": [],
   "source": [
    "a = nltk.corpus.stopwords.words(\"spanish\")"
   ]
  },
  {
   "cell_type": "code",
   "execution_count": 14,
   "metadata": {},
   "outputs": [],
   "source": [
    "with open(\"../modelo/files/stopwords.pkl\", \"wb\") as file:\n",
    "    pickle.dump(a, file)"
   ]
  },
  {
   "cell_type": "code",
   "execution_count": 15,
   "metadata": {},
   "outputs": [],
   "source": [
    "detalles = pd.read_json(\"../scraper_siglas-uc/outputs/detalles.json\")\n",
    "det = detalles.drop(columns = \"docente\").drop_duplicates() "
   ]
  },
  {
   "cell_type": "code",
   "execution_count": 18,
   "metadata": {},
   "outputs": [],
   "source": [
    "det.to_json(\"../scraper_siglas-uc/outputs/detalles_sp.json\", orient = \"table\", index = False)"
   ]
  },
  {
   "cell_type": "code",
   "execution_count": 16,
   "metadata": {},
   "outputs": [],
   "source": [
    "data = pd.read_json(\"../scraper_siglas-uc/outputs/programas_clean.json\", orient=\"table\")\n",
    "\n",
    "programas   = data[\"programa\"].apply(lambda x: word_tokenize(x)).to_list()\n",
    "diccionario = gensim.corpora.Dictionary(programas)\n",
    "corpus      = [diccionario.doc2bow(programa) for programa in programas]\n",
    "model       = gensim.models.LsiModel(corpus, 180, diccionario)\n",
    "index       = gensim.similarities.MatrixSimilarity(model[corpus])\n",
    "data.drop(columns = \"programa\", inplace = True)\n",
    "index.save('files/index.index')\n",
    "diccionario.save(\"files/diccionario.dict\")"
   ]
  },
  {
   "cell_type": "code",
   "execution_count": 17,
   "metadata": {},
   "outputs": [],
   "source": [
    "model.save(\"files/model.model\")"
   ]
  },
  {
   "cell_type": "code",
   "execution_count": 94,
   "metadata": {},
   "outputs": [],
   "source": [
    "gensim.corpora.MmCorpus.serialize(\"files/bow_corpus.mm\", corpus)"
   ]
  },
  {
   "cell_type": "code",
   "execution_count": null,
   "metadata": {},
   "outputs": [],
   "source": []
  },
  {
   "cell_type": "code",
   "execution_count": 91,
   "metadata": {},
   "outputs": [],
   "source": [
    "consulta = \"programacion en python\"\n",
    "consulta = word_tokenize(consulta)\n",
    "consulta_bow = diccionario.doc2bow(consulta)\n",
    "data[\"score\"] = index[model[consulta_bow]]\n",
    "datos_consulta = det.merge(data, how = \"right\", on = [\"escuela\", \"sigla\"]).sort_values(\"score\", ascending = False).iloc[:, [-1] + [0, 1, 2, 3, 4, 5]].assign(score = lambda x: round(100 * (0.5 * x.score + 0.5), 2))"
   ]
  },
  {
   "cell_type": "code",
   "execution_count": 92,
   "metadata": {},
   "outputs": [
    {
     "data": {
      "text/html": [
       "<div>\n",
       "<style scoped>\n",
       "    .dataframe tbody tr th:only-of-type {\n",
       "        vertical-align: middle;\n",
       "    }\n",
       "\n",
       "    .dataframe tbody tr th {\n",
       "        vertical-align: top;\n",
       "    }\n",
       "\n",
       "    .dataframe thead th {\n",
       "        text-align: right;\n",
       "    }\n",
       "</style>\n",
       "<table border=\"1\" class=\"dataframe\">\n",
       "  <thead>\n",
       "    <tr style=\"text-align: right;\">\n",
       "      <th></th>\n",
       "      <th>score</th>\n",
       "      <th>escuela</th>\n",
       "      <th>campus</th>\n",
       "      <th>formato</th>\n",
       "      <th>sigla</th>\n",
       "      <th>nombre</th>\n",
       "      <th>creditos</th>\n",
       "    </tr>\n",
       "  </thead>\n",
       "  <tbody>\n",
       "    <tr>\n",
       "      <th>403</th>\n",
       "      <td>93.160004</td>\n",
       "      <td>Ingeniería</td>\n",
       "      <td>San Joaquín</td>\n",
       "      <td>Presencial</td>\n",
       "      <td>ICS2121</td>\n",
       "      <td>Métodos de Optimización</td>\n",
       "      <td>10.0</td>\n",
       "    </tr>\n",
       "    <tr>\n",
       "      <th>402</th>\n",
       "      <td>84.459999</td>\n",
       "      <td>Ingeniería</td>\n",
       "      <td>San Joaquín</td>\n",
       "      <td>Presencial</td>\n",
       "      <td>ICS3151</td>\n",
       "      <td>Optimización Bajo Incertidumbre</td>\n",
       "      <td>10.0</td>\n",
       "    </tr>\n",
       "    <tr>\n",
       "      <th>628</th>\n",
       "      <td>76.180000</td>\n",
       "      <td>Economía y Administración</td>\n",
       "      <td>San Joaquín</td>\n",
       "      <td>Presencial</td>\n",
       "      <td>EAE4105</td>\n",
       "      <td>Métodos Matemáticos para Economía</td>\n",
       "      <td>10.0</td>\n",
       "    </tr>\n",
       "    <tr>\n",
       "      <th>269</th>\n",
       "      <td>76.169998</td>\n",
       "      <td>Matemáticas</td>\n",
       "      <td>San Joaquín</td>\n",
       "      <td>Presencial</td>\n",
       "      <td>EPG3601</td>\n",
       "      <td>Computacion Estadistica Avanzada</td>\n",
       "      <td>15.0</td>\n",
       "    </tr>\n",
       "    <tr>\n",
       "      <th>644</th>\n",
       "      <td>73.739998</td>\n",
       "      <td>Economía y Administración</td>\n",
       "      <td>San Joaquín</td>\n",
       "      <td>Presencial</td>\n",
       "      <td>EAA251A</td>\n",
       "      <td>Metodos de Optimizacion</td>\n",
       "      <td>10.0</td>\n",
       "    </tr>\n",
       "  </tbody>\n",
       "</table>\n",
       "</div>"
      ],
      "text/plain": [
       "         score                    escuela       campus     formato    sigla  \\\n",
       "403  93.160004                 Ingeniería  San Joaquín  Presencial  ICS2121   \n",
       "402  84.459999                 Ingeniería  San Joaquín  Presencial  ICS3151   \n",
       "628  76.180000  Economía y Administración  San Joaquín  Presencial  EAE4105   \n",
       "269  76.169998                Matemáticas  San Joaquín  Presencial  EPG3601   \n",
       "644  73.739998  Economía y Administración  San Joaquín  Presencial  EAA251A   \n",
       "\n",
       "                                nombre  creditos  \n",
       "403            Métodos de Optimización      10.0  \n",
       "402    Optimización Bajo Incertidumbre      10.0  \n",
       "628  Métodos Matemáticos para Economía      10.0  \n",
       "269   Computacion Estadistica Avanzada      15.0  \n",
       "644            Metodos de Optimizacion      10.0  "
      ]
     },
     "execution_count": 92,
     "metadata": {},
     "output_type": "execute_result"
    }
   ],
   "source": [
    "datos_consulta.head()"
   ]
  }
 ],
 "metadata": {
  "interpreter": {
   "hash": "a782e91f3854434a1924d5cbeed94dcce0f1ab6e0958f272b7513c90004e79a3"
  },
  "kernelspec": {
   "display_name": "Python 3.9.7 64-bit ('myenv': conda)",
   "language": "python",
   "name": "python3"
  },
  "language_info": {
   "codemirror_mode": {
    "name": "ipython",
    "version": 3
   },
   "file_extension": ".py",
   "mimetype": "text/x-python",
   "name": "python",
   "nbconvert_exporter": "python",
   "pygments_lexer": "ipython3",
   "version": "3.9.7"
  },
  "orig_nbformat": 4
 },
 "nbformat": 4,
 "nbformat_minor": 2
}
